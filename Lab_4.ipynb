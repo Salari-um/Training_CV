{
 "cells": [
  {
   "cell_type": "markdown",
   "metadata": {},
   "source": [
    "# Практическая работа 4\n",
    "**Тема:** Влияние функций потерь и метрик на качество сегментации  \n",
    "**Цель:** Научиться применять разные функции потерь и метрики в задаче семантичекой сегментации.\n",
    "      Исследовать, как они влияют на обучение модели U-Net на основе ResNet"
   ]
  },
  {
   "cell_type": "markdown",
   "metadata": {},
   "source": [
    "## Подготовка окружения"
   ]
  },
  {
   "cell_type": "code",
   "execution_count": 3,
   "metadata": {},
   "outputs": [],
   "source": [
    "#!pip install segmentation-models-pytorch torchmetrics"
   ]
  },
  {
   "cell_type": "markdown",
   "metadata": {},
   "source": [
    "# Загрузка и предобработка данных\n",
    "## Пример: Oxford Pet Dataset из torchvision"
   ]
  },
  {
   "cell_type": "code",
   "execution_count": 6,
   "metadata": {},
   "outputs": [],
   "source": [
    "import os\n",
    "os.environ[\"KMP_DUPLICATE_LIB_OK\"]=\"TRUE\"\n",
    "os.environ[\"TORCH_USE_CUDA_DSA\"]=\"TRUE\"\n",
    "os.environ['CUDA_LAUNCH_BLOCKING'] = '1'\n",
    "\n",
    "import torch\n",
    "import torchvision.transforms as T\n",
    "import torchvision\n",
    "import matplotlib.pyplot as plt\n",
    "from torch import nn\n",
    "\n",
    "from segmentation_models_pytorch import Unet\n",
    "from segmentation_models_pytorch.losses import DiceLoss, FocalLoss\n",
    "from torchmetrics.classification import MulticlassJaccardIndex, MulticlassAccuracy\n",
    "from torchvision.datasets import OxfordIIITPet\n",
    "from torchvision import datasets, transforms, models\n",
    "from torch.utils.data import DataLoader, random_split\n",
    "\n",
    "# Трансформация изображений к единому размеру\n",
    "transform = transforms.Compose([\n",
    "    transforms.Resize((224, 224)),\n",
    "    transforms.ToTensor(),\n",
    "])\n",
    "\n",
    "target_transform = transforms.Compose([\n",
    "    transforms.Resize((224, 224), interpolation=transforms.InterpolationMode.NEAREST),\n",
    "    transforms.PILToTensor()  # Маска в виде целых чисел\n",
    "])\n",
    "\n",
    "dataset = OxfordIIITPet(\n",
    "    root='./data', \n",
    "    download=True, \n",
    "    target_types='segmentation', \n",
    "    transform=transform, \n",
    "    target_transform=target_transform)\n",
    "\n",
    "train_data, val_data = random_split(dataset, [int(0.8*len(dataset)), int(0.2*len(dataset))])\n",
    "\n",
    "train_loader = DataLoader(train_data, batch_size=4, shuffle=True)\n",
    "val_loader = DataLoader(val_data, batch_size=4)"
   ]
  },
  {
   "cell_type": "markdown",
   "metadata": {},
   "source": [
    "## Определение модели"
   ]
  },
  {
   "cell_type": "code",
   "execution_count": 11,
   "metadata": {},
   "outputs": [
    {
     "name": "stdout",
     "output_type": "stream",
     "text": [
      "Используется устройство: cuda\n"
     ]
    }
   ],
   "source": [
    "NUM_CLASSES = 3\n",
    "\n",
    "my_device = \"cuda\" if torch.cuda.is_available() else \"cpu\"\n",
    "#device = \"cpu\"\n",
    "print(f\"Используется устройство: {my_device}\")\n",
    "\n",
    "model = Unet(encoder_name=\"resnet34\", in_channels=3, classes= NUM_CLASSES).to(my_device)"
   ]
  },
  {
   "cell_type": "markdown",
   "metadata": {},
   "source": [
    "## Настройка функций потерь"
   ]
  },
  {
   "cell_type": "code",
   "execution_count": 14,
   "metadata": {},
   "outputs": [],
   "source": [
    "losses = {\n",
    "    'CrossEntropy': nn.CrossEntropyLoss(),\n",
    "    'Dice': DiceLoss(mode='multiclass'),\n",
    "    'Focal': FocalLoss(mode='multiclass')\n",
    "}"
   ]
  },
  {
   "cell_type": "markdown",
   "metadata": {},
   "source": [
    "## Метрики"
   ]
  },
  {
   "cell_type": "code",
   "execution_count": 17,
   "metadata": {},
   "outputs": [],
   "source": [
    "metrics = {\n",
    "    'IoU': MulticlassJaccardIndex(num_classes=NUM_CLASSES).to(my_device),\n",
    "    'Accuracy': MulticlassAccuracy(num_classes=NUM_CLASSES).to(my_device)\n",
    "}"
   ]
  },
  {
   "cell_type": "markdown",
   "metadata": {},
   "source": [
    "## Цикл обучения"
   ]
  },
  {
   "cell_type": "code",
   "execution_count": 20,
   "metadata": {},
   "outputs": [],
   "source": [
    "def train_one_epoch(model, dataloader, loss_fn, optimizer, device):\n",
    "    model.train()\n",
    "    total_loss = 0\n",
    "    for x,y in dataloader:\n",
    "        x, y = x.to(device), (y.squeeze(1).long()-1).to(device) # уменьшим значения масок на 1, т.к. из датасета они приходят 1-3, а нужно 0-2\n",
    "        optimizer.zero_grad()\n",
    "        out = model(x)\n",
    "        loss = loss_fn(out, y.long())\n",
    "        loss.backward()\n",
    "        optimizer.step()\n",
    "        total_loss += loss.item()\n",
    "    return total_loss / len(dataloader)\n",
    "\n",
    "def evaluate(model, dataloader, device):\n",
    "    model.eval()\n",
    "    iou_total, acc_total = 0, 0\n",
    "    with torch.no_grad():\n",
    "        for x, y in dataloader:\n",
    "            x, y = x.to(device), (y.squeeze(1).long()-1).to(device) # уменьшим значения масок на 1, т.к. из датасета они приходят 1-3, а нужно 0-2\n",
    "            out = model(x)\n",
    "            preds = torch.argmax(out, dim=1)\n",
    "            iou_total += metrics['IoU'](preds, y)\n",
    "            acc_total += metrics['Accuracy'](preds, y)\n",
    "    return iou_total / len(dataloader), acc_total / len(dataloader)"
   ]
  },
  {
   "cell_type": "markdown",
   "metadata": {},
   "source": [
    "## Эксперименты"
   ]
  },
  {
   "cell_type": "code",
   "execution_count": 23,
   "metadata": {},
   "outputs": [
    {
     "name": "stdout",
     "output_type": "stream",
     "text": [
      "Training with CrossEntropy loss...\n",
      "1: Loss=0.480607, IoU=0.625663, Acc=0.749168\n",
      "2: Loss=0.375544, IoU=0.639869, Acc=0.743441\n",
      "3: Loss=0.338006, IoU=0.689777, Acc=0.791109\n",
      "4: Loss=0.305190, IoU=0.709761, Acc=0.807692\n",
      "5: Loss=0.279511, IoU=0.690839, Acc=0.784864\n",
      "6: Loss=0.268344, IoU=0.708460, Acc=0.806453\n",
      "7: Loss=0.255973, IoU=0.702511, Acc=0.791640\n",
      "8: Loss=0.245601, IoU=0.734676, Acc=0.826666\n",
      "9: Loss=0.227229, IoU=0.719565, Acc=0.804379\n",
      "10: Loss=0.221002, IoU=0.701845, Acc=0.803886\n",
      "Training with Dice loss...\n",
      "1: Loss=0.272764, IoU=0.642087, Acc=0.782508\n",
      "2: Loss=0.228632, IoU=0.673536, Acc=0.793442\n",
      "3: Loss=0.212248, IoU=0.687766, Acc=0.809715\n",
      "4: Loss=0.203999, IoU=0.661926, Acc=0.793160\n",
      "5: Loss=0.197872, IoU=0.670868, Acc=0.790547\n",
      "6: Loss=0.191927, IoU=0.699978, Acc=0.809622\n",
      "7: Loss=0.179161, IoU=0.711951, Acc=0.831920\n",
      "8: Loss=0.175686, IoU=0.704430, Acc=0.818906\n",
      "9: Loss=0.178799, IoU=0.711474, Acc=0.822059\n",
      "10: Loss=0.167816, IoU=0.721780, Acc=0.829327\n",
      "Training with Focal loss...\n",
      "1: Loss=0.248631, IoU=0.617951, Acc=0.726180\n",
      "2: Loss=0.186395, IoU=0.674362, Acc=0.779770\n",
      "3: Loss=0.171496, IoU=0.684994, Acc=0.781139\n",
      "4: Loss=0.158504, IoU=0.681077, Acc=0.793035\n",
      "5: Loss=0.148166, IoU=0.631187, Acc=0.741840\n",
      "6: Loss=0.138498, IoU=0.711880, Acc=0.809034\n",
      "7: Loss=0.134485, IoU=0.697598, Acc=0.797224\n",
      "8: Loss=0.127498, IoU=0.710825, Acc=0.809703\n",
      "9: Loss=0.117792, IoU=0.717028, Acc=0.812003\n",
      "10: Loss=0.121513, IoU=0.730042, Acc=0.824092\n"
     ]
    }
   ],
   "source": [
    "results = []\n",
    "\n",
    "for name, loss_fn in losses.items():\n",
    "    print(f\"Training with {name} loss...\")\n",
    "    model = Unet(encoder_name=\"resnet34\", in_channels=3, classes= NUM_CLASSES).to(my_device)\n",
    "    optimizer = torch.optim.Adam(model.parameters(), lr=1e-3)\n",
    "\n",
    "    for epoch in range(10):\n",
    "        loss = train_one_epoch(model, train_loader, loss_fn, optimizer, my_device)\n",
    "        iou, acc = evaluate(model, val_loader, my_device)\n",
    "        print(f\"{epoch+1}: Loss={loss:.6f}, IoU={iou:.6f}, Acc={acc:.6f}\")\n",
    "\n",
    "    results.append((name, loss, iou.item(), acc.item()))"
   ]
  },
  {
   "cell_type": "markdown",
   "metadata": {},
   "source": [
    "## Сравнение результатов"
   ]
  },
  {
   "cell_type": "code",
   "execution_count": 51,
   "metadata": {},
   "outputs": [
    {
     "name": "stdout",
     "output_type": "stream",
     "text": [
      "Результаты обучения модели\n",
      "  Loss Function  Final Loss   Val IoU  Val Accuracy\n",
      "0  CrossEntropy    0.221002  0.701845      0.803886\n",
      "1          Dice    0.167816  0.721780      0.829327\n",
      "2         Focal    0.121513  0.730042      0.824092\n",
      "Лучшая фукнкиця потерь - Focal. Её IoU - 0.730042\n",
      "Разница в Accuracy между Dice и Focal функциями Loss составила - 0.005234\n"
     ]
    }
   ],
   "source": [
    "import pandas as pd\n",
    "\n",
    "print(\"Результаты обучения модели\")\n",
    "results_df = pd.DataFrame(results, columns=['Loss Function', 'Final Loss', 'Val IoU', 'Val Accuracy'])\n",
    "print(results_df)\n",
    "\n",
    "best_idx = 0\n",
    "best_iou = results[best_idx][2]\n",
    "\n",
    "for i in range (len(results)):\n",
    "    iou = results[i][2]\n",
    "    if iou > best_iou:\n",
    "        best_idx = i\n",
    "        best_iou = iou\n",
    "best_loss = results[best_idx][0]\n",
    "\n",
    "print(f\"Лучшая фукнкиця потерь - {best_loss}. Её IoU - {best_iou:.6f}\")\n",
    "\n",
    "acc_diff = results[1][3] - results[2][3] \n",
    "\n",
    "print(f\"Разница в Accuracy между Dice и Focal функциями Loss составила - {acc_diff:6f}\")"
   ]
  },
  {
   "cell_type": "markdown",
   "metadata": {},
   "source": [
    "## Выводы"
   ]
  },
  {
   "cell_type": "markdown",
   "metadata": {},
   "source": [
    "1) Лучшая функция потерь - Focal. Она показала лучший результат в значении IoU, хотя не самый улчший в Accuracy\n",
    "2) Разница в точности (Accuracy) между применением Dice и Focal loss-функций составила порядка 0.005, что не критично в большинстве случаев применения, однако зависит от спицифики предметной области\n",
    "3) Выбор функции потерь влияет на скорость изменения потерь, а также за их изначальные значения. В результат при применении различных функций потерь можно обнаружить, что при одинаковом кол-ве эпох обучения и скорости обучения, модели на выходе получают результаты, которые могут сильно отличаться (как в случае применения кросс-энтроии и focal из данной работы)\n"
   ]
  }
 ],
 "metadata": {
  "colab": {
   "provenance": []
  },
  "kernelspec": {
   "display_name": "Python 3 (ipykernel)",
   "language": "python",
   "name": "python3"
  },
  "language_info": {
   "codemirror_mode": {
    "name": "ipython",
    "version": 3
   },
   "file_extension": ".py",
   "mimetype": "text/x-python",
   "name": "python",
   "nbconvert_exporter": "python",
   "pygments_lexer": "ipython3",
   "version": "3.11.11"
  }
 },
 "nbformat": 4,
 "nbformat_minor": 4
}
